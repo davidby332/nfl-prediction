{
 "cells": [
  {
   "cell_type": "markdown",
   "id": "035e7689-d67e-4a4e-92d2-49bbbcc6d2d6",
   "metadata": {},
   "source": [
    "# Initial Data Collection"
   ]
  },
  {
   "cell_type": "code",
   "execution_count": 1,
   "id": "08b3b054-4d87-4bbd-a14c-bddae70ad499",
   "metadata": {},
   "outputs": [],
   "source": [
    "import pandas as pd\n",
    "import time\n",
    "from datetime import datetime\n",
    "import re\n",
    "\n",
    "from bs4 import BeautifulSoup\n",
    "from selenium import webdriver\n",
    "from selenium.webdriver.chrome.options import Options\n",
    "from selenium.webdriver.common.by import By"
   ]
  },
  {
   "cell_type": "code",
   "execution_count": 24,
   "id": "a6983327-214a-4091-8416-32a21752e4a4",
   "metadata": {},
   "outputs": [],
   "source": [
    "teams = pd.read_csv('Data/team_names.csv')\n",
    "\n",
    "teams['abbr1'] = teams['abbr1'].str.lower()\n",
    "teams['abbr2'] = teams['abbr2'].str.lower()\n",
    "\n",
    "teams['nickname'] = teams.apply(lambda x: x['full_name'][x['full_name'].rfind(' ') + 1:], axis = 1)\n",
    "\n",
    "teams['abbr1'][teams['abbr1'] == 'arz'] = 'crd'\n",
    "teams['abbr1'][teams['abbr1'] == 'blt'] = 'rav'\n",
    "teams['abbr1'][teams['abbr1'] == 'clv'] = 'cle'\n",
    "teams['abbr1'][teams['abbr1'] == 'hst'] = 'htx'\n",
    "teams['abbr1'][teams['abbr1'] == 'wsh'] = 'was'\n",
    "\n",
    "positions = ['QB', 'RB', 'FB', 'WR1', 'WR2', 'TE', 'LT', 'LG', 'C ', 'RG', 'RT', \n",
    "             'LDE', 'LDT', 'RDT', 'RDE', 'LLB', 'MLB', 'RLB', 'LCB', 'RCB', 'SS', 'FS',\n",
    "             'PR', 'KR']\n",
    "\n",
    "yr_list = [2018, 2019, 2020, 2021]"
   ]
  },
  {
   "cell_type": "code",
   "execution_count": 21,
   "id": "bc9bf493-c3ef-4af8-bb8c-793e5890d61a",
   "metadata": {},
   "outputs": [
    {
     "data": {
      "text/plain": [
       "'Packers'"
      ]
     },
     "execution_count": 21,
     "metadata": {},
     "output_type": "execute_result"
    }
   ],
   "source": [
    "test = 'Green Bay Packers'\n",
    "\n",
    "test = test[test.rfind(' ') + 1:]\n",
    "\n",
    "test"
   ]
  },
  {
   "cell_type": "code",
   "execution_count": null,
   "id": "29b15d05-a481-4a01-a9c9-ce9c361709dc",
   "metadata": {},
   "outputs": [],
   "source": [
    "def starting(team, years, positions):\n",
    "    \n",
    "#     Initialize the connection\n",
    "    \n",
    "    url = 'https://www.pro-football-reference.com/teams/' + team + '/lineups.htm'\n",
    "\n",
    "    chrome_options = Options()\n",
    "    chrome_options.add_argument('--headless')\n",
    "    chrome_options.add_argument('--no-sandbox')\n",
    "    chrome_options.add_argument('--disable-dev-shm-usage')\n",
    "\n",
    "    driver = webdriver.Chrome(executable_path='/usr/local/bin/chromedriver', options=chrome_options)\n",
    "    driver.get(url)\n",
    "    time.sleep(20)\n",
    "\n",
    "    soup = BeautifulSoup(driver.page_source, 'html.parser')\n",
    "    \n",
    "    page = soup.find(id = 'div_starting_lineups').get_text()\n",
    "    \n",
    "#     Find the parts of the text that are associated with each year\n",
    "    \n",
    "    yr_dict = dict()\n",
    "    \n",
    "    for yr in years:\n",
    "    \n",
    "        yr_dict[yr] = page.find(str(yr))\n",
    "        \n",
    "    table_dict = dict()\n",
    "\n",
    "    for yr in years[::-1]:\n",
    "\n",
    "        start_yr = years[yr]\n",
    "\n",
    "        try:\n",
    "            end_yr = years[yr-1]\n",
    "\n",
    "        except:\n",
    "            end_yr = 9999999999999\n",
    "\n",
    "        table_dict[yr] = page[start_yr:end_yr]\n",
    "        \n",
    "#         Parse each year's table\n",
    "        \n",
    "    player_year = dict()\n",
    "        \n",
    "    for t in table_dict:\n",
    "        \n",
    "        player_info = table_dict[t].replace('*', '').replace('+', '')\n",
    "                \n",
    "        str_pos = []\n",
    "\n",
    "        for p in positions:\n",
    "\n",
    "            if p == 'WR1' and p != 'WR2':\n",
    "\n",
    "                wr1 = player_info.find('WR')\n",
    "                wr2 = player_info.rfind('WR')\n",
    "\n",
    "                str_pos.append(wr1)\n",
    "                str_pos.append(wr2)\n",
    "\n",
    "            elif p != 'WR1' and p != 'WR2':\n",
    "\n",
    "                str_pos.append(player_info.find(p))\n",
    "\n",
    "        player_dict = dict()\n",
    "\n",
    "        for p in range(len(off_str_pos)):\n",
    "\n",
    "            if p < (len(off_str_pos) - 1):\n",
    "\n",
    "                player_dict[positions[p]] = (player_info[str_pos[p]: str_pos[p + 1]])\n",
    "\n",
    "                if positions[p] == 'WR1' or positions[p] == 'WR2':\n",
    "\n",
    "                    player_dict[positions[p]] = player_dict[positions[p]].replace('WR', '').strip()\n",
    "\n",
    "                else:\n",
    "\n",
    "                    player_dict[positions[p]] = player_dict[positions[p]].replace(positions[p], '').strip()\n",
    "\n",
    "            else:\n",
    "\n",
    "                player_dict[positions[p]] = player_info[str_pos[p]:].replace(positions[p], '').strip()\n",
    "                \n",
    "        player_year[t] = player_dict\n",
    "        \n",
    "    return player_year\n"
   ]
  },
  {
   "cell_type": "code",
   "execution_count": null,
   "id": "a6d82084-6c7b-494e-a1ec-74c1fbaac07a",
   "metadata": {},
   "outputs": [],
   "source": [
    "starting('min', yr_list, positions)"
   ]
  },
  {
   "cell_type": "code",
   "execution_count": 12,
   "id": "f86a5d37-9b03-4e9a-9f63-5b5f0607feb1",
   "metadata": {},
   "outputs": [],
   "source": [
    "game_dates = pd.read_csv('Data/spreadspoke_scores.csv')\n",
    "\n",
    "game_dates['schedule_date'] = pd.to_datetime(game_dates['schedule_date'], format = '%m/%d/%Y')\n",
    "\n",
    "game_dates = game_dates[game_dates['schedule_date'] >= '2018-06-01']\n",
    "\n",
    "game_dates = game_dates[['schedule_date', 'team_home']]"
   ]
  },
  {
   "cell_type": "code",
   "execution_count": 2,
   "id": "8cf02002-6307-4e93-8f84-36847b607468",
   "metadata": {},
   "outputs": [
    {
     "name": "stderr",
     "output_type": "stream",
     "text": [
      "/tmp/ipykernel_5046/4062118090.py:8: DeprecationWarning: executable_path has been deprecated, please pass in a Service object\n",
      "  driver = webdriver.Chrome(executable_path='/usr/local/bin/chromedriver', options=chrome_options)\n"
     ]
    }
   ],
   "source": [
    "url = 'https://www.pro-football-reference.com/boxscores/201809090min.htm'\n",
    "\n",
    "chrome_options = Options()\n",
    "chrome_options.add_argument('--headless')\n",
    "chrome_options.add_argument('--no-sandbox')\n",
    "chrome_options.add_argument('--disable-dev-shm-usage')\n",
    "\n",
    "driver = webdriver.Chrome(executable_path='/usr/local/bin/chromedriver', options=chrome_options)\n",
    "driver.get(url)\n",
    "time.sleep(20)\n",
    "\n",
    "soup = BeautifulSoup(driver.page_source, 'html.parser')"
   ]
  },
  {
   "cell_type": "code",
   "execution_count": 3,
   "id": "108aaa00-9533-4f30-8ca9-4927a3a55ae6",
   "metadata": {
    "tags": []
   },
   "outputs": [],
   "source": [
    "count = 0\n",
    "\n",
    "table_loc = 0\n",
    "\n",
    "for s in soup.find_all(class_ = 'content_grid'):\n",
    "    \n",
    "    if s.get_text().find('Vikings Starters') != -1:\n",
    "    \n",
    "        table_loc = count\n",
    "        \n",
    "    else:\n",
    "        \n",
    "        count += 1\n",
    "    "
   ]
  },
  {
   "cell_type": "code",
   "execution_count": 4,
   "id": "c9153a55-b351-4330-ad10-bb8d1a65caeb",
   "metadata": {},
   "outputs": [],
   "source": [
    "start_ind = 0\n",
    "\n",
    "parse_obj = soup.find_all(class_ = 'content_grid')[table_loc].prettify()\n",
    "\n",
    "player_list = []\n",
    "\n",
    "start_player = 1\n",
    "\n",
    "while start_player != -1:\n",
    "    \n",
    "    start_player = parse_obj.find('.htm\"')\n",
    "    end_player = parse_obj.find('</a')\n",
    "            \n",
    "    player_name = parse_obj[start_player + 6: end_player]\n",
    "    \n",
    "    player_list.append(player_name)\n",
    "    \n",
    "    start_ind = end_player + 3\n",
    "        \n",
    "    parse_obj = parse_obj[start_ind:]"
   ]
  },
  {
   "cell_type": "code",
   "execution_count": 5,
   "id": "f6aaefba-180c-4d49-97c2-07fe85bb9dba",
   "metadata": {},
   "outputs": [
    {
     "data": {
      "text/plain": [
       "['Kirk Cousins',\n",
       " 'Dalvin Cook',\n",
       " 'Stefon Diggs',\n",
       " 'Laquon Treadwell',\n",
       " 'Adam Thielen',\n",
       " 'Kyle Rudolph',\n",
       " 'Riley Reiff',\n",
       " 'Tom Compton',\n",
       " 'Brett Jones',\n",
       " 'Mike Remmers',\n",
       " 'Rashod Hill',\n",
       " 'Danielle Hunter',\n",
       " 'Sheldon Richardson',\n",
       " 'Linval Joseph',\n",
       " 'Everson Griffen',\n",
       " 'Anthony Barr',\n",
       " 'Eric Kendricks',\n",
       " 'Ben Gedeon',\n",
       " 'Trae Waynes',\n",
       " 'Xavier Rhodes',\n",
       " 'Andrew Sendejo',\n",
       " 'Harrison Smith',\n",
       " 'Jimmy Garoppolo',\n",
       " 'Alfred Morris',\n",
       " 'Kyle Juszczyk',\n",
       " 'Pierre Garcon',\n",
       " 'Marquise Goodwin',\n",
       " 'George Kittle',\n",
       " 'Joe Staley',\n",
       " 'Laken Tomlinson',\n",
       " 'Weston Richburg',\n",
       " 'Michael Person',\n",
       " 'Mike McGlinchey',\n",
       " 'Solomon Thomas',\n",
       " 'Earl Mitchell',\n",
       " 'DeForest Buckner',\n",
       " 'Arik Armstead',\n",
       " 'Brock Coyle',\n",
       " 'Fred Warner',\n",
       " 'Richard Sherman',\n",
       " 'Ahkello Witherspoon',\n",
       " 'Jaquiski Tartt',\n",
       " 'Adrian Colbert',\n",
       " \"K'Waun Williams\",\n",
       " '><td class=\"left \" data-stat=\"pos\" >DB</td></tr>\\n\\n</table>\\n\\n\\n</div>\\n-->\\n  </div>\\n </div>\\n</div>']"
      ]
     },
     "execution_count": 5,
     "metadata": {},
     "output_type": "execute_result"
    }
   ],
   "source": [
    "player_list"
   ]
  },
  {
   "cell_type": "code",
   "execution_count": null,
   "id": "ce3a893a-6947-4a58-8da2-8d2c4441d462",
   "metadata": {},
   "outputs": [],
   "source": []
  }
 ],
 "metadata": {
  "kernelspec": {
   "display_name": "Python 3 (ipykernel)",
   "language": "python",
   "name": "python3"
  },
  "language_info": {
   "codemirror_mode": {
    "name": "ipython",
    "version": 3
   },
   "file_extension": ".py",
   "mimetype": "text/x-python",
   "name": "python",
   "nbconvert_exporter": "python",
   "pygments_lexer": "ipython3",
   "version": "3.10.4"
  }
 },
 "nbformat": 4,
 "nbformat_minor": 5
}
